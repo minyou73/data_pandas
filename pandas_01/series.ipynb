{
 "cells": [
  {
   "cell_type": "code",
   "execution_count": 1,
   "id": "04f67853-a03b-4d0a-977d-524c9c81b0d0",
   "metadata": {},
   "outputs": [],
   "source": [
    "import pandas as pd\n",
    "import numpy as np"
   ]
  },
  {
   "cell_type": "code",
   "execution_count": null,
   "id": "7f0f5f7e-a8da-43ae-ae4d-f13c8b64fa66",
   "metadata": {},
   "outputs": [],
   "source": [
    "# pd.Series(집합적 자료형)\n",
    "# pd.Series(리스트)\n",
    "s = pd.Series([1, 2, 3])\n",
    "s\n",
    "# 위 코드는 시리즈 생성시 인덱스를 명시하지 않았음, 0 base 인덱스 생성"
   ]
  },
  {
   "cell_type": "code",
   "execution_count": 4,
   "id": "35b26b99-dcd8-4ae7-8823-69cb3529ff9e",
   "metadata": {},
   "outputs": [
    {
     "data": {
      "text/plain": [
       "0    1.0\n",
       "1    2.0\n",
       "2    3.0\n",
       "dtype: float64"
      ]
     },
     "execution_count": 4,
     "metadata": {},
     "output_type": "execute_result"
    }
   ],
   "source": [
    "# pd.Series(튜플)\n",
    "s = pd.Series((1.0, 2.0, 3.0))\n",
    "s"
   ]
  },
  {
   "cell_type": "code",
   "execution_count": 5,
   "id": "a817d740-c5d5-4208-b7ac-6f3ef59f77e9",
   "metadata": {},
   "outputs": [],
   "source": [
    "# pd.Series(1, 2, 3) # 시리즈 생성시 반드시 집합적 자료형을 이용해야 함\n"
   ]
  },
  {
   "cell_type": "code",
   "execution_count": 6,
   "id": "d8db1cd2-fcfb-4495-aaa5-2a1e8bddc824",
   "metadata": {},
   "outputs": [
    {
     "data": {
      "text/plain": [
       "0    a\n",
       "1    a\n",
       "2    c\n",
       "dtype: object"
      ]
     },
     "execution_count": 6,
     "metadata": {},
     "output_type": "execute_result"
    }
   ],
   "source": [
    "s2 = pd.Series(['a', 'a', 'c']) #dytpe:object\n",
    "s2"
   ]
  },
  {
   "cell_type": "code",
   "execution_count": 7,
   "id": "0292b249-0eb0-4474-824e-11f29108ac6f",
   "metadata": {},
   "outputs": [
    {
     "data": {
      "text/plain": [
       "0      a\n",
       "1      1\n",
       "2    3.0\n",
       "dtype: object"
      ]
     },
     "execution_count": 7,
     "metadata": {},
     "output_type": "execute_result"
    }
   ],
   "source": [
    "# 리스트내에 서로 다른 type의 data가 있으면 형변환 일어남-문자열로 변환됨\n",
    "s_1 = pd.Series(['a',1,3.0]) #dtype:object\n",
    "s_1"
   ]
  },
  {
   "cell_type": "markdown",
   "id": "9a8e3a72-80a8-44a7-952b-47fcbe148a76",
   "metadata": {},
   "source": [
    "## 범위를 시리즈의 value생성하는데 사용하기 - range/np.arage 함수 사용"
   ]
  },
  {
   "cell_type": "code",
   "execution_count": 8,
   "id": "6c631620-30c8-4016-bcdb-246fea495949",
   "metadata": {},
   "outputs": [
    {
     "data": {
      "text/plain": [
       "0    10\n",
       "1    11\n",
       "2    12\n",
       "3    13\n",
       "dtype: int64"
      ]
     },
     "execution_count": 8,
     "metadata": {},
     "output_type": "execute_result"
    }
   ],
   "source": [
    "s = pd.Series(range(10,14))\n",
    "s"
   ]
  },
  {
   "cell_type": "code",
   "execution_count": 9,
   "id": "f511bd64-d7df-448d-b55a-9606c3c2b941",
   "metadata": {},
   "outputs": [
    {
     "data": {
      "text/plain": [
       "range(10, 14)"
      ]
     },
     "execution_count": 9,
     "metadata": {},
     "output_type": "execute_result"
    }
   ],
   "source": [
    "range(10,14)"
   ]
  },
  {
   "cell_type": "code",
   "execution_count": 10,
   "id": "28fd85ed-edd5-4e7a-a9fb-1ea95b406ec9",
   "metadata": {},
   "outputs": [
    {
     "data": {
      "text/plain": [
       "array([  0,   1,   2,   3,   4,   5,   6,   7,   8,   9,  10,  11,  12,\n",
       "        13,  14,  15,  16,  17,  18,  19,  20,  21,  22,  23,  24,  25,\n",
       "        26,  27,  28,  29,  30,  31,  32,  33,  34,  35,  36,  37,  38,\n",
       "        39,  40,  41,  42,  43,  44,  45,  46,  47,  48,  49,  50,  51,\n",
       "        52,  53,  54,  55,  56,  57,  58,  59,  60,  61,  62,  63,  64,\n",
       "        65,  66,  67,  68,  69,  70,  71,  72,  73,  74,  75,  76,  77,\n",
       "        78,  79,  80,  81,  82,  83,  84,  85,  86,  87,  88,  89,  90,\n",
       "        91,  92,  93,  94,  95,  96,  97,  98,  99, 100, 101, 102, 103,\n",
       "       104, 105, 106, 107, 108, 109, 110, 111, 112, 113, 114, 115, 116,\n",
       "       117, 118, 119, 120, 121, 122, 123, 124, 125, 126, 127, 128, 129,\n",
       "       130, 131, 132, 133, 134, 135, 136, 137, 138, 139, 140, 141, 142,\n",
       "       143, 144, 145, 146, 147, 148, 149, 150, 151, 152, 153, 154, 155,\n",
       "       156, 157, 158, 159, 160, 161, 162, 163, 164, 165, 166, 167, 168,\n",
       "       169, 170, 171, 172, 173, 174, 175, 176, 177, 178, 179, 180, 181,\n",
       "       182, 183, 184, 185, 186, 187, 188, 189, 190, 191, 192, 193, 194,\n",
       "       195, 196, 197, 198, 199])"
      ]
     },
     "execution_count": 10,
     "metadata": {},
     "output_type": "execute_result"
    }
   ],
   "source": [
    "np.arange(200)"
   ]
  },
  {
   "cell_type": "code",
   "execution_count": 12,
   "id": "4f59591b-4b73-4131-8378-7de87fb3e842",
   "metadata": {},
   "outputs": [
    {
     "data": {
      "text/plain": [
       "0        0\n",
       "1        1\n",
       "2        2\n",
       "3        3\n",
       "4        4\n",
       "      ... \n",
       "195    195\n",
       "196    196\n",
       "197    197\n",
       "198    198\n",
       "199    199\n",
       "Length: 200, dtype: int64"
      ]
     },
     "execution_count": 12,
     "metadata": {},
     "output_type": "execute_result"
    }
   ],
   "source": [
    "s3 = pd.Series(np.arange(200))\n",
    "s3"
   ]
  },
  {
   "cell_type": "markdown",
   "id": "2954e10c-e90b-4df6-84d0-549ac1991800",
   "metadata": {},
   "source": [
    "## 결측값을 포함해서 시리즈 만들기\n",
    " - 결측값 NaN-numpy 라는 모듈에서 생성할수 있음\n",
    " - 결측값 생성 위해서는 numpy 모듈 import"
   ]
  },
  {
   "cell_type": "code",
   "execution_count": 13,
   "id": "06dc35ab-c8f9-4824-a1fd-09e3d478874b",
   "metadata": {},
   "outputs": [
    {
     "data": {
      "text/plain": [
       "0    1.0\n",
       "1    2.0\n",
       "2    3.0\n",
       "3    NaN\n",
       "4    6.0\n",
       "5    8.0\n",
       "dtype: float64"
      ]
     },
     "execution_count": 13,
     "metadata": {},
     "output_type": "execute_result"
    }
   ],
   "source": [
    "# NaN은 np.nan 속성을 이용해서 생성\n",
    "s = pd.Series([1, 2,3,np.nan, 6,8])\n",
    "s\n",
    "# dtype:float64\n",
    "# 판다스가 처리하는 자료구인 시리즈와 데이터프레임에서 결측치가 있는 경우는 datatype이 float으로"
   ]
  },
  {
   "cell_type": "markdown",
   "id": "d5c1455c-1d8c-4517-9974-bdb11283ce44",
   "metadata": {},
   "source": [
    "## 인덱스 명시해서 시리즈 만들기\n",
    " - 숫자 인덱스 지정\n",
    " - s = pd.Series([값1, 값2, 값3], index=[1,2,3])"
   ]
  },
  {
   "cell_type": "code",
   "execution_count": 14,
   "id": "34c6d277-e0f8-44f4-a32d-f85b0cc7a9e7",
   "metadata": {},
   "outputs": [
    {
     "data": {
      "text/plain": [
       "1    10\n",
       "2    20\n",
       "3    30\n",
       "dtype: int64"
      ]
     },
     "execution_count": 14,
     "metadata": {},
     "output_type": "execute_result"
    }
   ],
   "source": [
    "s = pd.Series([10,20,30], index=[1,2,3])\n",
    "s"
   ]
  },
  {
   "cell_type": "code",
   "execution_count": 16,
   "id": "a34322bf-8974-48d8-aab3-a4bc6314cf35",
   "metadata": {},
   "outputs": [
    {
     "data": {
      "text/plain": [
       "1    10\n",
       "2    20\n",
       "3    30\n",
       "dtype: int64"
      ]
     },
     "execution_count": 16,
     "metadata": {},
     "output_type": "execute_result"
    }
   ],
   "source": [
    "s0=pd.Series([10,20,30], index=[1,2,3])\n",
    "s0"
   ]
  },
  {
   "cell_type": "code",
   "execution_count": 17,
   "id": "2454fbe7-0d57-48e8-b086-8ac6db6708e8",
   "metadata": {},
   "outputs": [
    {
     "data": {
      "text/plain": [
       "Index([1, 2, 3], dtype='int64')"
      ]
     },
     "execution_count": 17,
     "metadata": {},
     "output_type": "execute_result"
    }
   ],
   "source": [
    "s0.index #Int64Index([1,2,3], dtype='int64')"
   ]
  },
  {
   "cell_type": "code",
   "execution_count": 18,
   "id": "4ae1728e-67a8-426c-a418-2a8365c5be7f",
   "metadata": {},
   "outputs": [
    {
     "data": {
      "text/plain": [
       "RangeIndex(start=0, stop=3, step=1)"
      ]
     },
     "execution_count": 18,
     "metadata": {},
     "output_type": "execute_result"
    }
   ],
   "source": [
    "s00 = pd.Series([1,2,3]) #index를 명시하지 않음\n",
    "s00.index #범위 인덱스가 생성"
   ]
  },
  {
   "cell_type": "code",
   "execution_count": 27,
   "id": "4629ef1c-92ea-4a5a-a004-79305660dd44",
   "metadata": {},
   "outputs": [
    {
     "data": {
      "text/plain": [
       "Index(['서울', '부산', '인천', '대구'], dtype='object')"
      ]
     },
     "execution_count": 27,
     "metadata": {},
     "output_type": "execute_result"
    }
   ],
   "source": [
    "s = pd.Series([9904312, 3448737, 289045, 2466052],\n",
    "index=[\"서울\", \"부산\", \"인천\", \"대구\"])\n",
    "s.index #Index(['서울', '부산', '인천', '대구'], dtype='object')"
   ]
  },
  {
   "cell_type": "markdown",
   "id": "1e0d122d-165d-411b-a010-6d32e16ceaad",
   "metadata": {},
   "source": [
    "## 시리즈.index.name속성\n",
    " - 시리즈의 인덱스에 이름을 붙일수 있음"
   ]
  },
  {
   "cell_type": "code",
   "execution_count": 28,
   "id": "3c65f6ec-5f7a-45c8-9068-98357e522b30",
   "metadata": {},
   "outputs": [
    {
     "data": {
      "text/plain": [
       "광역시\n",
       "서울    9904312\n",
       "부산    3448737\n",
       "인천     289045\n",
       "대구    2466052\n",
       "dtype: int64"
      ]
     },
     "execution_count": 28,
     "metadata": {},
     "output_type": "execute_result"
    }
   ],
   "source": [
    "s.index.name = '광역시'\n",
    "s"
   ]
  },
  {
   "cell_type": "code",
   "execution_count": 29,
   "id": "31c2e501-f29f-4b68-905f-5e750418a79f",
   "metadata": {},
   "outputs": [
    {
     "data": {
      "text/plain": [
       "Index(['서울', '부산', '인천', '대구'], dtype='object', name='광역시')"
      ]
     },
     "execution_count": 29,
     "metadata": {},
     "output_type": "execute_result"
    }
   ],
   "source": [
    "s.index"
   ]
  },
  {
   "cell_type": "markdown",
   "id": "40dfa463-a7ad-4685-89b6-98fed1582a8a",
   "metadata": {},
   "source": [
    "## 시리즈.name속성\n",
    " - 시리즈 데이터에 이름을 붙일수 있다.\n",
    " - name 속성은 값의 의미전달에 사용"
   ]
  },
  {
   "cell_type": "code",
   "execution_count": 30,
   "id": "3d7275b0-6ff2-450b-b0d8-2fb8b434c3d7",
   "metadata": {},
   "outputs": [
    {
     "data": {
      "text/plain": [
       "광역시\n",
       "서울    9904312\n",
       "부산    3448737\n",
       "인천     289045\n",
       "대구    2466052\n",
       "Name: 인구, dtype: int64"
      ]
     },
     "execution_count": 30,
     "metadata": {},
     "output_type": "execute_result"
    }
   ],
   "source": [
    "s.name = '인구'\n",
    "s"
   ]
  },
  {
   "cell_type": "markdown",
   "id": "e1ef23f0-25c9-4cb0-80a7-f148c0ec24ae",
   "metadata": {},
   "source": [
    "## 인덱싱: \n",
    " - 데이터에서 특정한 데이터를 골라내는것"
   ]
  },
  {
   "cell_type": "markdown",
   "id": "88255b2e-94f1-4023-b635-ff1f91881408",
   "metadata": {},
   "source": [
    "## 시리즈의 인덱싱 종류\n",
    " 1.정수형 위치 인덱스(integer position)\n",
    " 2.인덱스 이름(index name)또는 인덱스 라벨(index label)\n",
    "  - 인덱스 별도 지정하지 않으면 0부터 시작하는 정수형 인덱스가 지정됨\n"
   ]
  },
  {
   "cell_type": "markdown",
   "id": "9b8bd3a7-cbac-433b-a923-24e5551b06ea",
   "metadata": {},
   "source": [
    "## 원소접근\n",
    " - 정수형 인덱스 : 숫자 s[0]\n",
    " - 문자형 인덱스 : 문자 s['인천']"
   ]
  },
  {
   "cell_type": "code",
   "execution_count": 31,
   "id": "b0ca660a-22fe-49ab-b461-2c1f2ba410bd",
   "metadata": {},
   "outputs": [
    {
     "name": "stdout",
     "output_type": "stream",
     "text": [
      "Index(['서울', '부산', '인천', '대구'], dtype='object', name='광역시')\n"
     ]
    },
    {
     "name": "stderr",
     "output_type": "stream",
     "text": [
      "/var/folders/3b/n5ncr3zs4qb6pxlt0scsxs1r0000gn/T/ipykernel_1989/1371018358.py:3: FutureWarning: Series.__getitem__ treating keys as positions is deprecated. In a future version, integer keys will always be treated as labels (consistent with DataFrame behavior). To access a value by position, use `ser.iloc[pos]`\n",
      "  s[2] #위치 인덱스 사용 가능\n"
     ]
    },
    {
     "data": {
      "text/plain": [
       "289045"
      ]
     },
     "execution_count": 31,
     "metadata": {},
     "output_type": "execute_result"
    }
   ],
   "source": [
    "print(s.index) #문자열형 인덱스\n",
    "s['인천'] #문자형 인덱스로 접근\n",
    "s[2] #위치 인덱스 사용 가능"
   ]
  },
  {
   "cell_type": "code",
   "execution_count": 32,
   "id": "5f1153c5-46e5-4ac1-8b17-b4b9ab5125c4",
   "metadata": {},
   "outputs": [
    {
     "data": {
      "text/plain": [
       "1"
      ]
     },
     "execution_count": 32,
     "metadata": {},
     "output_type": "execute_result"
    }
   ],
   "source": [
    "# 정수형 인덱스인 경우\n",
    "s03 = pd.Series([1,2,3], index=[1,2,3])\n",
    "s03\n",
    "s03[1] #명시적 인덱스(정수인덱스임)사용\n",
    "# s03[0] #위치인덱스 접근-KeyError\n",
    "# 정수인덱스인 경우 위치 인덱스는 사용 불가"
   ]
  },
  {
   "cell_type": "code",
   "execution_count": 33,
   "id": "f3ad5e36-2361-409b-a978-12fc9c4c941f",
   "metadata": {},
   "outputs": [
    {
     "data": {
      "text/plain": [
       "3448737"
      ]
     },
     "execution_count": 33,
     "metadata": {},
     "output_type": "execute_result"
    }
   ],
   "source": [
    "# 문자형 인덱스(부산 데이터 추출)\n",
    "s['부산']"
   ]
  },
  {
   "cell_type": "code",
   "execution_count": 34,
   "id": "cc933411-bc38-4eec-b83a-920182446878",
   "metadata": {},
   "outputs": [
    {
     "name": "stderr",
     "output_type": "stream",
     "text": [
      "/var/folders/3b/n5ncr3zs4qb6pxlt0scsxs1r0000gn/T/ipykernel_1989/1477776605.py:2: FutureWarning: Series.__getitem__ treating keys as positions is deprecated. In a future version, integer keys will always be treated as labels (consistent with DataFrame behavior). To access a value by position, use `ser.iloc[pos]`\n",
      "  s[3], s['대구']\n"
     ]
    },
    {
     "data": {
      "text/plain": [
       "(2466052, 2466052)"
      ]
     },
     "execution_count": 34,
     "metadata": {},
     "output_type": "execute_result"
    }
   ],
   "source": [
    "# 두개 이상의 인덱싱 코드를 나열하면 = 튜플형태로 반환\n",
    "s[3], s['대구']"
   ]
  },
  {
   "cell_type": "code",
   "execution_count": 36,
   "id": "2cced0bb-957a-47f9-83f5-2e645fa751e4",
   "metadata": {},
   "outputs": [
    {
     "data": {
      "text/plain": [
       "광역시\n",
       "서울    9904312\n",
       "부산    3448737\n",
       "인천     289045\n",
       "대구    2466052\n",
       "Name: 인구, dtype: int64"
      ]
     },
     "execution_count": 36,
     "metadata": {},
     "output_type": "execute_result"
    }
   ],
   "source": [
    "# 노트북 팁\n",
    "# 데이터에 두번 접근\n",
    "s\n",
    "s #마지막 연산에 대해선만 접근 결과를 보여줌"
   ]
  },
  {
   "cell_type": "markdown",
   "id": "b1aa3792-5dce-4baa-aaab-b3f3ed9d0fc3",
   "metadata": {},
   "source": [
    "## 리스트 이용 인덱싱\n",
    " - 자료의 순서를 바꾸거나 특정자료 여러개를 선택할 수 있다.\n",
    " - 인덱스값 여러개를 이용해 접근시 []안에 넣는다.\n"
   ]
  },
  {
   "cell_type": "code",
   "execution_count": 37,
   "id": "ac568c80-8a02-43ab-9362-cf6bb3f89875",
   "metadata": {},
   "outputs": [
    {
     "name": "stdout",
     "output_type": "stream",
     "text": [
      "광역시\n",
      "서울    9904312\n",
      "부산    3448737\n",
      "인천     289045\n",
      "대구    2466052\n",
      "Name: 인구, dtype: int64\n"
     ]
    },
    {
     "name": "stderr",
     "output_type": "stream",
     "text": [
      "/var/folders/3b/n5ncr3zs4qb6pxlt0scsxs1r0000gn/T/ipykernel_1989/268013922.py:3: FutureWarning: Series.__getitem__ treating keys as positions is deprecated. In a future version, integer keys will always be treated as labels (consistent with DataFrame behavior). To access a value by position, use `ser.iloc[pos]`\n",
      "  s[0], s[3], s[1] #(9904312, 3448737, 289045, 2466052)\n",
      "/var/folders/3b/n5ncr3zs4qb6pxlt0scsxs1r0000gn/T/ipykernel_1989/268013922.py:5: FutureWarning: Series.__getitem__ treating keys as positions is deprecated. In a future version, integer keys will always be treated as labels (consistent with DataFrame behavior). To access a value by position, use `ser.iloc[pos]`\n",
      "  s[[0,3,1]] #- 인덱스 리스트 내의 해당 인덱스의 item을 추출 후 시리즈 형태로 반환\n"
     ]
    },
    {
     "data": {
      "text/plain": [
       "광역시\n",
       "서울    9904312\n",
       "대구    2466052\n",
       "부산    3448737\n",
       "Name: 인구, dtype: int64"
      ]
     },
     "execution_count": 37,
     "metadata": {},
     "output_type": "execute_result"
    }
   ],
   "source": [
    "print(s)\n",
    "# s[0,3,1] #KeyError :'key of type tuple not found and not a MultiiIndex'\n",
    "s[0], s[3], s[1] #(9904312, 3448737, 289045, 2466052)\n",
    "# 시리즈명[[인덱스리스트]] - 시리즈 형태로 반환\n",
    "s[[0,3,1]] #- 인덱스 리스트 내의 해당 인덱스의 item을 추출 후 시리즈 형태로 반환"
   ]
  },
  {
   "cell_type": "markdown",
   "id": "bf3e6f93-72d7-4cf9-a559-2a16b17b7aa1",
   "metadata": {},
   "source": [
    "## 시리즈 슬라이싱\n",
    " - 정수형 위치 인덱스를 사용한 슬라이싱\n",
    "   - 시리즈[start:stop+1]\n",
    " - 문자(라벨)인덱스 이용 슬라이싱\n",
    "   - 시리즈['시작라벨':'끝라벨']: 표시된 라벨 범위 모두 추출"
   ]
  },
  {
   "cell_type": "code",
   "execution_count": 38,
   "id": "a432f256-e0f0-4e08-987e-a9e262b19dde",
   "metadata": {},
   "outputs": [
    {
     "name": "stdout",
     "output_type": "stream",
     "text": [
      "광역시\n",
      "서울    9904312\n",
      "부산    3448737\n",
      "인천     289045\n",
      "대구    2466052\n",
      "Name: 인구, dtype: int64\n"
     ]
    },
    {
     "name": "stderr",
     "output_type": "stream",
     "text": [
      "/var/folders/3b/n5ncr3zs4qb6pxlt0scsxs1r0000gn/T/ipykernel_1989/2804775230.py:2: FutureWarning: Series.__getitem__ treating keys as positions is deprecated. In a future version, integer keys will always be treated as labels (consistent with DataFrame behavior). To access a value by position, use `ser.iloc[pos]`\n",
      "  s[[1,2]]\n"
     ]
    },
    {
     "data": {
      "text/plain": [
       "광역시\n",
       "부산    3448737\n",
       "인천     289045\n",
       "Name: 인구, dtype: int64"
      ]
     },
     "execution_count": 38,
     "metadata": {},
     "output_type": "execute_result"
    }
   ],
   "source": [
    "print(s)\n",
    "s[[1,2]]\n",
    "s[['부산', '인천']]\n",
    "s[1:3] # 시리즈 슬라이싱을 사용하면 시리즈로 반환"
   ]
  },
  {
   "cell_type": "code",
   "execution_count": 39,
   "id": "4da8826a-fa06-4a5f-9a7a-dbf61fb27f42",
   "metadata": {},
   "outputs": [
    {
     "data": {
      "text/plain": [
       "광역시\n",
       "부산    3448737\n",
       "인천     289045\n",
       "대구    2466052\n",
       "Name: 인구, dtype: int64"
      ]
     },
     "execution_count": 39,
     "metadata": {},
     "output_type": "execute_result"
    }
   ],
   "source": [
    "# 문자인덱스를 이용한 슬라이싱 가능\n",
    "# 표시된 문자인덱스 범위 모두 추출\n",
    "s[\"부산\":\"대구\"]"
   ]
  },
  {
   "cell_type": "code",
   "execution_count": 40,
   "id": "d0b0020f-d0d1-4582-8687-1ce92035f9b2",
   "metadata": {},
   "outputs": [
    {
     "name": "stdout",
     "output_type": "stream",
     "text": [
      "1    100\n",
      "2    200\n",
      "3    300\n",
      "4    400\n",
      "dtype: int64\n"
     ]
    },
    {
     "data": {
      "text/plain": [
       "3    300\n",
       "4    400\n",
       "dtype: int64"
      ]
     },
     "execution_count": 40,
     "metadata": {},
     "output_type": "execute_result"
    }
   ],
   "source": [
    "# 정수형 인덱스를 명시했을 경우\n",
    "s_01 = pd.Series([100,200,300,400], index=[1, 2, 3, 4])\n",
    "print(s_01)\n",
    "s_01[[2,3,4]]\n",
    "\n",
    "# 슬라이싱 사용 - # 0-base 슬라이싱을 사용\n",
    "s_01[2:4]\n",
    "\n",
    "# 시리즈의 인덱스를 명시할때는 가급적이면 문자형으로 명시하는 것이 좋다\n"
   ]
  },
  {
   "cell_type": "markdown",
   "id": "63b5f013-fe6f-4d36-b939-a3275d65de36",
   "metadata": {},
   "source": [
    "## 문자 인덱스\n",
    " - [.] 연산자를 이용하여 접근가능"
   ]
  },
  {
   "cell_type": "code",
   "execution_count": 41,
   "id": "daf64959-1cd6-4f07-b5e7-cd174c137b1c",
   "metadata": {},
   "outputs": [
    {
     "data": {
      "text/plain": [
       "a    0\n",
       "b    1\n",
       "c    2\n",
       "dtype: int64"
      ]
     },
     "execution_count": 41,
     "metadata": {},
     "output_type": "execute_result"
    }
   ],
   "source": [
    "# 인덱스를 문자값으로 지정한 시리즈\n",
    "s0= pd.Series(range(3), index= ['a','b','c'])\n",
    "s0"
   ]
  },
  {
   "cell_type": "code",
   "execution_count": 42,
   "id": "40a16a3b-e6e1-4867-892a-796e495ec07d",
   "metadata": {},
   "outputs": [
    {
     "data": {
      "text/plain": [
       "0"
      ]
     },
     "execution_count": 42,
     "metadata": {},
     "output_type": "execute_result"
    }
   ],
   "source": [
    "s0['a']\n",
    "s0.a"
   ]
  },
  {
   "cell_type": "code",
   "execution_count": 43,
   "id": "93df634e-9839-4cf1-8306-bd4156647be9",
   "metadata": {},
   "outputs": [
    {
     "name": "stdout",
     "output_type": "stream",
     "text": [
      "광역시\n",
      "서울    9904312\n",
      "부산    3448737\n",
      "인천     289045\n",
      "대구    2466052\n",
      "Name: 인구, dtype: int64\n"
     ]
    },
    {
     "data": {
      "text/plain": [
       "9904312"
      ]
     },
     "execution_count": 43,
     "metadata": {},
     "output_type": "execute_result"
    }
   ],
   "source": [
    "print(s) #한글문자 인덱스\n",
    "s['서울']\n",
    "s.서울"
   ]
  },
  {
   "cell_type": "markdown",
   "id": "48df692e-9da2-4efe-b8e4-31c4e04e5b0b",
   "metadata": {},
   "source": [
    "## 인덱스 통한 데이터 업데이트"
   ]
  },
  {
   "cell_type": "code",
   "execution_count": 44,
   "id": "61659da6-7231-4073-bab7-03ac748c99bd",
   "metadata": {},
   "outputs": [
    {
     "data": {
      "text/plain": [
       "10000000"
      ]
     },
     "execution_count": 44,
     "metadata": {},
     "output_type": "execute_result"
    }
   ],
   "source": [
    "s['서울'] = 10000000\n",
    "s['서울']"
   ]
  },
  {
   "cell_type": "code",
   "execution_count": 45,
   "id": "c77faf65-64ad-4861-9474-d233ce40ae97",
   "metadata": {},
   "outputs": [
    {
     "data": {
      "text/plain": [
       "광역시\n",
       "서울    10000000\n",
       "부산     3448737\n",
       "인천      289045\n",
       "대구     2466052\n",
       "Name: 인구, dtype: int64"
      ]
     },
     "execution_count": 45,
     "metadata": {},
     "output_type": "execute_result"
    }
   ],
   "source": [
    "s"
   ]
  },
  {
   "cell_type": "markdown",
   "id": "fdca95d2-1c46-4b20-9240-3aa5aa967389",
   "metadata": {},
   "source": [
    "## 인덱스 재사용하기"
   ]
  },
  {
   "cell_type": "code",
   "execution_count": 46,
   "id": "9a6568fb-2e02-4a4f-a51a-acdfb7cf140f",
   "metadata": {},
   "outputs": [
    {
     "name": "stdout",
     "output_type": "stream",
     "text": [
      "Index(['서울', '부산', '인천', '대구'], dtype='object', name='광역시')\n"
     ]
    },
    {
     "data": {
      "text/plain": [
       "광역시\n",
       "서울    0\n",
       "부산    1\n",
       "인천    2\n",
       "대구    3\n",
       "dtype: int64"
      ]
     },
     "execution_count": 46,
     "metadata": {},
     "output_type": "execute_result"
    }
   ],
   "source": [
    "print(s.index)\n",
    "s1 = pd.Series(np.arange(4), s.index)\n",
    "s1"
   ]
  },
  {
   "cell_type": "markdown",
   "id": "62f48263-6645-465a-8c70-4238a13a416c",
   "metadata": {},
   "source": [
    "## 시리즈 연산"
   ]
  },
  {
   "cell_type": "code",
   "execution_count": 47,
   "id": "26e6e5fa-66fc-4d78-a5d7-e19f1de63d12",
   "metadata": {},
   "outputs": [
    {
     "data": {
      "text/plain": [
       "광역시\n",
       "서울    10000000\n",
       "부산     3448737\n",
       "인천      289045\n",
       "대구     2466052\n",
       "Name: 인구, dtype: int64"
      ]
     },
     "execution_count": 47,
     "metadata": {},
     "output_type": "execute_result"
    }
   ],
   "source": [
    "# 문자 인덱스의 시리즈 s 확인 후 연산 실습\n",
    "s\n",
    "# 도시\n",
    "# 서울 9904312, \n",
    "# 부산 3448737, \n",
    "# 인천 289045, \n",
    "# 대구 2466052\n",
    "# Name:인구, dtype:int64"
   ]
  },
  {
   "cell_type": "markdown",
   "id": "f7e8a269-200d-40ec-9e91-a2b7c98b9a98",
   "metadata": {},
   "source": [
    "## 벡터화 연산\n",
    " - numpy 배열처럼 pandasdml 시리즈도 벡터화 연산 가능\n",
    " - 벡터화 연산이란 집합적 자료형의 원소 각각을 독립적으로 계산을 진행하는 방법\n",
    "   - 단, 연산은 시리즈의 값에만 적용되며 인덱스 값으 변경 불가"
   ]
  },
  {
   "cell_type": "code",
   "execution_count": 48,
   "id": "bdf04c40-b280-4d80-bf27-b9c62fd8dac4",
   "metadata": {},
   "outputs": [
    {
     "data": {
      "text/plain": [
       "0    5\n",
       "1    6\n",
       "2    7\n",
       "dtype: int64"
      ]
     },
     "execution_count": 48,
     "metadata": {},
     "output_type": "execute_result"
    }
   ],
   "source": [
    "# 시리즈 원소 각각에 대하여 +4 연산을 진행-벡터화 연산\n",
    "pd.Series([1, 2, 3]) +4"
   ]
  },
  {
   "cell_type": "code",
   "execution_count": 50,
   "id": "64789275-564a-4710-af19-00874b69e8c3",
   "metadata": {},
   "outputs": [
    {
     "name": "stdout",
     "output_type": "stream",
     "text": [
      "광역시\n",
      "서울    10000000\n",
      "부산     3448737\n",
      "인천      289045\n",
      "대구     2466052\n",
      "Name: 인구, dtype: int64\n"
     ]
    },
    {
     "data": {
      "text/plain": [
       "광역시\n",
       "서울    10.000000\n",
       "부산     3.448737\n",
       "인천     0.289045\n",
       "대구     2.466052\n",
       "Name: 인구, dtype: float64"
      ]
     },
     "execution_count": 50,
     "metadata": {},
     "output_type": "execute_result"
    }
   ],
   "source": [
    "# s 시리즈의 단위가 커서 단위를 변경하고 자 함 1/100000000\n",
    "# 시리즈 자체를 10000000으로 나누면 됨, 벡터화 연산을 진행 함\n",
    "print(s)\n",
    "s/1000000 #대입하지 않았음"
   ]
  },
  {
   "cell_type": "code",
   "execution_count": 51,
   "id": "f4266228-d3c5-40b0-93a9-c8920deec690",
   "metadata": {},
   "outputs": [
    {
     "data": {
      "text/plain": [
       "광역시\n",
       "서울    10000000\n",
       "부산     3448737\n",
       "인천      289045\n",
       "대구     2466052\n",
       "Name: 인구, dtype: int64"
      ]
     },
     "execution_count": 51,
     "metadata": {},
     "output_type": "execute_result"
    }
   ],
   "source": [
    "s"
   ]
  },
  {
   "cell_type": "code",
   "execution_count": 52,
   "id": "076a7621-872f-46c9-8748-47388eaf9d99",
   "metadata": {},
   "outputs": [
    {
     "data": {
      "text/plain": [
       "광역시\n",
       "부산    3448737\n",
       "Name: 인구, dtype: int64"
      ]
     },
     "execution_count": 52,
     "metadata": {},
     "output_type": "execute_result"
    }
   ],
   "source": [
    "# 벡터화 인덱싱도 가능\n",
    "# 시리즈[조건]\n",
    "# s시리즈 값 중 25000000 보다 크고 500000 보다 작은 원소를 추출\n",
    "s[(s>250e4)& (s<500e4)]\n",
    "# s 시리즈 각 원소값 각각에 대해서 조건식을 확인해서 결과가 True 인 원소를 반환"
   ]
  },
  {
   "cell_type": "markdown",
   "id": "50fcf422-f851-4a23-bd55-84b667ccc977",
   "metadata": {},
   "source": [
    "## Boolean selection\n",
    " - boolean Series가 []와 함께 사용되면 True 값에 해당하는 값만 새로 반환되는 Series객체에 포함됨\n",
    " - 다중조건의 경우, &(and),|(or)를 사용하여 연결 가능"
   ]
  },
  {
   "cell_type": "code",
   "execution_count": 55,
   "id": "0ae161b7-39d2-429d-b711-3a5e5befb3df",
   "metadata": {},
   "outputs": [
    {
     "data": {
      "text/plain": [
       "1     0\n",
       "2     1\n",
       "3     2\n",
       "4     3\n",
       "5     4\n",
       "6     5\n",
       "7     6\n",
       "8     7\n",
       "9     8\n",
       "10    9\n",
       "dtype: int64"
      ]
     },
     "execution_count": 55,
     "metadata": {},
     "output_type": "execute_result"
    }
   ],
   "source": [
    "s0 = pd.Series(np.arange(10), np.arange(10)+1)\n",
    "s0"
   ]
  },
  {
   "cell_type": "code",
   "execution_count": 56,
   "id": "ca029573-df15-49e1-b222-97b53cd24df4",
   "metadata": {},
   "outputs": [
    {
     "data": {
      "text/plain": [
       "1     False\n",
       "2     False\n",
       "3     False\n",
       "4     False\n",
       "5     False\n",
       "6     False\n",
       "7      True\n",
       "8      True\n",
       "9      True\n",
       "10     True\n",
       "dtype: bool"
      ]
     },
     "execution_count": 56,
     "metadata": {},
     "output_type": "execute_result"
    }
   ],
   "source": [
    "s0>5"
   ]
  },
  {
   "cell_type": "code",
   "execution_count": 57,
   "id": "46e9bb48-d3cd-4fc5-910b-ee6d6591e965",
   "metadata": {},
   "outputs": [
    {
     "data": {
      "text/plain": [
       "7     6\n",
       "8     7\n",
       "9     8\n",
       "10    9\n",
       "dtype: int64"
      ]
     },
     "execution_count": 57,
     "metadata": {},
     "output_type": "execute_result"
    }
   ],
   "source": [
    "s0[s0>5]"
   ]
  },
  {
   "cell_type": "code",
   "execution_count": 58,
   "id": "464687ce-ea95-4f09-a514-35ed1aae137f",
   "metadata": {},
   "outputs": [
    {
     "data": {
      "text/plain": [
       "1    0\n",
       "3    2\n",
       "5    4\n",
       "7    6\n",
       "9    8\n",
       "dtype: int64"
      ]
     },
     "execution_count": 58,
     "metadata": {},
     "output_type": "execute_result"
    }
   ],
   "source": [
    "s0[s0%2 == 0]"
   ]
  },
  {
   "cell_type": "code",
   "execution_count": 59,
   "id": "743595fa-ea90-4869-ba7e-3b0864b65167",
   "metadata": {},
   "outputs": [
    {
     "data": {
      "text/plain": [
       "1     0\n",
       "2     1\n",
       "3     2\n",
       "4     3\n",
       "5     4\n",
       "6     5\n",
       "7     6\n",
       "8     7\n",
       "9     8\n",
       "10    9\n",
       "dtype: int64"
      ]
     },
     "execution_count": 59,
     "metadata": {},
     "output_type": "execute_result"
    }
   ],
   "source": [
    "s0"
   ]
  },
  {
   "cell_type": "code",
   "execution_count": 60,
   "id": "169a67f8-4ad8-44c3-96e0-4b763ea8a015",
   "metadata": {},
   "outputs": [
    {
     "data": {
      "text/plain": [
       "array([False, False, False, False, False,  True,  True,  True,  True,\n",
       "        True])"
      ]
     },
     "execution_count": 60,
     "metadata": {},
     "output_type": "execute_result"
    }
   ],
   "source": [
    "s0.index > 5"
   ]
  },
  {
   "cell_type": "code",
   "execution_count": 61,
   "id": "27129c22-fb06-4b41-9acf-470209a47c49",
   "metadata": {},
   "outputs": [
    {
     "data": {
      "text/plain": [
       "6     5\n",
       "7     6\n",
       "8     7\n",
       "9     8\n",
       "10    9\n",
       "dtype: int64"
      ]
     },
     "execution_count": 61,
     "metadata": {},
     "output_type": "execute_result"
    }
   ],
   "source": [
    "s0[s0.index >5 ]"
   ]
  },
  {
   "cell_type": "code",
   "execution_count": 62,
   "id": "f958c557-bb0a-40a0-a8ec-8799b8e501d2",
   "metadata": {},
   "outputs": [
    {
     "data": {
      "text/plain": [
       "7    6\n",
       "8    7\n",
       "dtype: int64"
      ]
     },
     "execution_count": 62,
     "metadata": {},
     "output_type": "execute_result"
    }
   ],
   "source": [
    "# s0의 value가 5를 초과하고 8미만인 아이템(원소)만 추출하시오\n",
    "s0[(s0>5) & (s0<8)]"
   ]
  },
  {
   "cell_type": "code",
   "execution_count": 63,
   "id": "205cf6ab-9df1-4f42-aa46-0021521ba5d5",
   "metadata": {},
   "outputs": [
    {
     "data": {
      "text/plain": [
       "3"
      ]
     },
     "execution_count": 63,
     "metadata": {},
     "output_type": "execute_result"
    }
   ],
   "source": [
    "(s0 >=7).sum() #True의 개수 총합"
   ]
  },
  {
   "cell_type": "code",
   "execution_count": 64,
   "id": "7bef9db0-49a0-4d5a-b0a3-2449f116c438",
   "metadata": {},
   "outputs": [
    {
     "data": {
      "text/plain": [
       "24"
      ]
     },
     "execution_count": 64,
     "metadata": {},
     "output_type": "execute_result"
    }
   ],
   "source": [
    "(s0[s0 >= 7]).sum() #조건의 결과가 True인 원소들의 합"
   ]
  },
  {
   "cell_type": "markdown",
   "id": "3e4742cf-cf05-495e-b57b-bcec2af1cf4e",
   "metadata": {},
   "source": [
    "## 두 시리즈간의 연산"
   ]
  },
  {
   "cell_type": "code",
   "execution_count": 65,
   "id": "52902edd-ecb5-46e9-a373-ac5e462af854",
   "metadata": {},
   "outputs": [
    {
     "data": {
      "text/plain": [
       "a    1\n",
       "b    2\n",
       "c    3\n",
       "d    4\n",
       "dtype: int64"
      ]
     },
     "execution_count": 65,
     "metadata": {},
     "output_type": "execute_result"
    }
   ],
   "source": [
    "num_s1=pd.Series([1, 2, 3,4], index=['a','b','c','d'])\n",
    "num_s1\n",
    "                 "
   ]
  },
  {
   "cell_type": "code",
   "execution_count": 66,
   "id": "bcd57a48-26c7-40a2-b708-fe501abf6e6c",
   "metadata": {},
   "outputs": [
    {
     "data": {
      "text/plain": [
       "b    5\n",
       "c    6\n",
       "d    7\n",
       "a    8\n",
       "dtype: int64"
      ]
     },
     "execution_count": 66,
     "metadata": {},
     "output_type": "execute_result"
    }
   ],
   "source": [
    "num_s2 = pd.Series([5,6,7,8], index=['b','c','d','a'])\n",
    "num_s2"
   ]
  },
  {
   "cell_type": "code",
   "execution_count": 67,
   "id": "5780feab-1bfc-4d05-a8bd-c6399acfd46a",
   "metadata": {},
   "outputs": [
    {
     "data": {
      "text/plain": [
       "a     9\n",
       "b     7\n",
       "c     9\n",
       "d    11\n",
       "dtype: int64"
      ]
     },
     "execution_count": 67,
     "metadata": {},
     "output_type": "execute_result"
    }
   ],
   "source": [
    "num_s1 + num_s2 #시리즈간의 연산은 같은 인덱스를 찾아 연산을 진행"
   ]
  },
  {
   "cell_type": "code",
   "execution_count": 69,
   "id": "32eed7c2-ad4f-4df2-a8b0-c165d2f2f514",
   "metadata": {},
   "outputs": [],
   "source": [
    "num_s3=pd.Series([5,6,7,8], index=['e','b','f','g'])\n",
    "num_s4=pd.Series([1,2,3,4], index=['a','b','c','d'])\n"
   ]
  },
  {
   "cell_type": "code",
   "execution_count": 70,
   "id": "4b27c7df-ffb4-467e-92a3-b24465714c25",
   "metadata": {},
   "outputs": [
    {
     "data": {
      "text/plain": [
       "a    NaN\n",
       "b    4.0\n",
       "c    NaN\n",
       "d    NaN\n",
       "e    NaN\n",
       "f    NaN\n",
       "g    NaN\n",
       "dtype: float64"
      ]
     },
     "execution_count": 70,
     "metadata": {},
     "output_type": "execute_result"
    }
   ],
   "source": [
    "# 동일한 인덱스는 연산을 진행하고 나머지 인덱스는 연산처리가 불가능해서 NaN값으로 처리\n",
    "num_s3 - num_s4"
   ]
  },
  {
   "cell_type": "code",
   "execution_count": 71,
   "id": "90234aae-0810-4099-b263-67b57c1ce370",
   "metadata": {},
   "outputs": [
    {
     "data": {
      "text/plain": [
       "array([4, 4, 4, 4])"
      ]
     },
     "execution_count": 71,
     "metadata": {},
     "output_type": "execute_result"
    }
   ],
   "source": [
    "num_s3.values- num_s4.values\n",
    "# values 속성을 사용해 값만을 추출해 연산을 진행하게 되면 시리즈의 형태가 사라지므로\n",
    "# 동일 위치 원소들끼리 연산을 진행\n",
    "# 시리즈.values는 array 형태 반환"
   ]
  },
  {
   "cell_type": "markdown",
   "id": "580846be-f541-4a91-ae27-dd705a8cc30f",
   "metadata": {},
   "source": [
    "## 딕셔너리와 시리즈의 관계\n",
    " - 시리즈 객체는 라벨(문자)에 의해 인덱싱이 가능\n",
    " - 실질적으로는 라벨을 key로 가지는 딕셔너리 형과 같다고 볼 수 있음\n",
    " - 딕셔너리에서 제공하는 대부분의 연산자 사용 가능\n",
    "       - in 연산자: T/F\n",
    "       - for 루프를 통해 각 원소의 key와 value에 접근할수 있다.\n",
    " - in 연산자 /for 반복문 사용"
   ]
  },
  {
   "cell_type": "code",
   "execution_count": 72,
   "id": "8dcd4817-c1f7-4f2d-a5da-aa6670513b7a",
   "metadata": {},
   "outputs": [
    {
     "data": {
      "text/plain": [
       "광역시\n",
       "서울    10000000\n",
       "부산     3448737\n",
       "인천      289045\n",
       "대구     2466052\n",
       "Name: 인구, dtype: int64"
      ]
     },
     "execution_count": 72,
     "metadata": {},
     "output_type": "execute_result"
    }
   ],
   "source": [
    "s"
   ]
  },
  {
   "cell_type": "code",
   "execution_count": 73,
   "id": "a27b9fc3-5a58-4fa4-b391-78596e7aba49",
   "metadata": {},
   "outputs": [
    {
     "data": {
      "text/plain": [
       "True"
      ]
     },
     "execution_count": 73,
     "metadata": {},
     "output_type": "execute_result"
    }
   ],
   "source": [
    "# 인덱스가 서울인 원소가 시리즈에 있는지 확인( in)\n",
    "'서울' in s"
   ]
  },
  {
   "cell_type": "code",
   "execution_count": 75,
   "id": "7fc59f47-2b6b-4505-ae36-82747adf0d9d",
   "metadata": {},
   "outputs": [
    {
     "data": {
      "text/plain": [
       "False"
      ]
     },
     "execution_count": 75,
     "metadata": {},
     "output_type": "execute_result"
    }
   ],
   "source": [
    "# 인덱스가 대전인 원소가 시리즈에 있는지 확인 ( in)\n",
    "'대전' in s"
   ]
  },
  {
   "cell_type": "code",
   "execution_count": 76,
   "id": "87f44b5e-aefb-491c-8b08-1b7e4fa6cb12",
   "metadata": {},
   "outputs": [
    {
     "data": {
      "text/plain": [
       "<zip at 0x11a34b700>"
      ]
     },
     "execution_count": 76,
     "metadata": {},
     "output_type": "execute_result"
    }
   ],
   "source": [
    "# 딕셔러닐의 items() 함수 시리즈에 사용 가능\n",
    "s.items() # zip 객체\n"
   ]
  },
  {
   "cell_type": "code",
   "execution_count": 78,
   "id": "016d9df5-acdd-4571-80e4-c083ea4e922d",
   "metadata": {},
   "outputs": [
    {
     "name": "stdout",
     "output_type": "stream",
     "text": [
      "서울=10000000\n",
      "부산=3448737\n",
      "인천=289045\n",
      "대구=2466052\n"
     ]
    }
   ],
   "source": [
    "# 시리즈 각 원소 출력\n",
    "for k, v in s.items() :\n",
    "    print('%s=%d' % (k,v))"
   ]
  },
  {
   "cell_type": "markdown",
   "id": "3aca55cf-29a7-423a-a029-f720b25dc768",
   "metadata": {},
   "source": [
    "## 딕셔너리로 시리즈 만들기\n",
    " - Series({key:value, key1:value1...})\n",
    " - 인덱스 -> key\n",
    " - 값 -> value"
   ]
  },
  {
   "cell_type": "code",
   "execution_count": 79,
   "id": "fdcba5f0-b892-4729-8a7a-bc1aed9e387d",
   "metadata": {},
   "outputs": [
    {
     "data": {
      "text/plain": [
       "홍길동     96\n",
       "이몽룡    100\n",
       "성춘향     88\n",
       "dtype: int64"
      ]
     },
     "execution_count": 79,
     "metadata": {},
     "output_type": "execute_result"
    }
   ],
   "source": [
    "scores = {'홍길동':96, '이몽룡':100, '성춘향':88}\n",
    "s=pd.Series(scores)\n",
    "s"
   ]
  },
  {
   "cell_type": "code",
   "execution_count": 80,
   "id": "2f1bd23e-06df-433e-a880-b34aa6729f79",
   "metadata": {},
   "outputs": [
    {
     "data": {
      "text/plain": [
       "서울    9631482\n",
       "부산    3393191\n",
       "인천    2632035\n",
       "대전    1490158\n",
       "dtype: int64"
      ]
     },
     "execution_count": 80,
     "metadata": {},
     "output_type": "execute_result"
    }
   ],
   "source": [
    "city = {'서울':9631482,'부산':3393191, '인천':2632035, '대전':1490158}\n",
    "s=pd.Series(city)\n",
    "s"
   ]
  },
  {
   "cell_type": "markdown",
   "id": "c809726d-81fe-4ee0-adc2-d46b1f757f7a",
   "metadata": {},
   "source": [
    "## 딕셔너리의 원소는 순서를 갖지 않는다.\n",
    " - 딕셔너리로 생성된 시리즈의 원소도 순서가 보장되지 않는다.\n",
    " - 만약 순서를 보장하고 싶으면 인덱스를 리스트로 지정해야 한다."
   ]
  },
  {
   "cell_type": "code",
   "execution_count": 84,
   "id": "00521f31-3f85-41fd-a229-dd045eb828e5",
   "metadata": {},
   "outputs": [
    {
     "ename": "AttributeError",
     "evalue": "'dict' object has no attribute 'index'",
     "output_type": "error",
     "traceback": [
      "\u001b[0;31m---------------------------------------------------------------------------\u001b[0m",
      "\u001b[0;31mAttributeError\u001b[0m                            Traceback (most recent call last)",
      "Cell \u001b[0;32mIn[84], line 2\u001b[0m\n\u001b[1;32m      1\u001b[0m city \u001b[38;5;241m=\u001b[39m {\u001b[38;5;124m'\u001b[39m\u001b[38;5;124m서울\u001b[39m\u001b[38;5;124m'\u001b[39m:\u001b[38;5;241m9631482\u001b[39m,\u001b[38;5;124m'\u001b[39m\u001b[38;5;124m부산\u001b[39m\u001b[38;5;124m'\u001b[39m:\u001b[38;5;241m3393191\u001b[39m, \u001b[38;5;124m'\u001b[39m\u001b[38;5;124m인천\u001b[39m\u001b[38;5;124m'\u001b[39m:\u001b[38;5;241m2632035\u001b[39m, \u001b[38;5;124m'\u001b[39m\u001b[38;5;124m대전\u001b[39m\u001b[38;5;124m'\u001b[39m:\u001b[38;5;241m1490158\u001b[39m}\n\u001b[0;32m----> 2\u001b[0m s\u001b[38;5;241m=\u001b[39mpd\u001b[38;5;241m.\u001b[39mSeries(\u001b[43mcity\u001b[49m\u001b[38;5;241;43m.\u001b[39;49m\u001b[43mindex\u001b[49m\u001b[38;5;241m==\u001b[39mcity\u001b[38;5;241m.\u001b[39mkeys())\n\u001b[1;32m      3\u001b[0m s\n",
      "\u001b[0;31mAttributeError\u001b[0m: 'dict' object has no attribute 'index'"
     ]
    }
   ],
   "source": [
    "city = {'서울':9631482,'부산':3393191, '인천':2632035, '대전':1490158}\n",
    "s=pd.Series(city.index==city.keys())\n",
    "s"
   ]
  },
  {
   "cell_type": "code",
   "execution_count": 85,
   "id": "1d207392-e293-4d27-8b75-cc371937e592",
   "metadata": {},
   "outputs": [
    {
     "data": {
      "text/plain": [
       "부산    3393191\n",
       "인천    2632035\n",
       "서울    9631482\n",
       "대전    1490158\n",
       "dtype: int64"
      ]
     },
     "execution_count": 85,
     "metadata": {},
     "output_type": "execute_result"
    }
   ],
   "source": [
    "s=pd.Series(city, index=['부산', '인천', '서울', '대전'])\n",
    "s"
   ]
  },
  {
   "cell_type": "markdown",
   "id": "dacf7d1f-724e-48ed-974a-ea33447f560a",
   "metadata": {},
   "source": [
    "## 시리즈의 데이터의 갱신, 추가, 삭제\n",
    " - 인덱싱을 이용하면 딕셔너리 처럼 갱신, 추가 가능"
   ]
  },
  {
   "cell_type": "code",
   "execution_count": 86,
   "id": "5974dd96-e616-415d-85f1-d45645b703de",
   "metadata": {},
   "outputs": [
    {
     "data": {
      "text/plain": [
       "부산    3393191\n",
       "인천    2632035\n",
       "서울    9631482\n",
       "대전    1490158\n",
       "dtype: int64"
      ]
     },
     "execution_count": 86,
     "metadata": {},
     "output_type": "execute_result"
    }
   ],
   "source": [
    "s"
   ]
  },
  {
   "cell_type": "code",
   "execution_count": 87,
   "id": "8033ec21-1736-4684-a617-dae57a6efe83",
   "metadata": {},
   "outputs": [
    {
     "data": {
      "text/plain": [
       "부산    16300000\n",
       "인천     2632035\n",
       "서울     9631482\n",
       "대전     1490158\n",
       "dtype: int64"
      ]
     },
     "execution_count": 87,
     "metadata": {},
     "output_type": "execute_result"
    }
   ],
   "source": [
    "# 시리즈의 부산의 인구 값을 16300000으로 변경\n",
    "s['부산'] = 16300000\n",
    "s"
   ]
  },
  {
   "cell_type": "code",
   "execution_count": null,
   "id": "600399d3-a4d3-45de-85ac-86dac1f5946a",
   "metadata": {},
   "outputs": [],
   "source": [
    "# 시리즈내 원소 삭제 -del 명령을 사용\n",
    "del s['서울']\n",
    "s"
   ]
  },
  {
   "cell_type": "code",
   "execution_count": 89,
   "id": "b71f4215-0be6-4909-abcd-46a8d9a663ab",
   "metadata": {},
   "outputs": [
    {
     "data": {
      "text/plain": [
       "부산    16300000\n",
       "인천     2632035\n",
       "대전     1490158\n",
       "대구     1875000\n",
       "dtype: int64"
      ]
     },
     "execution_count": 89,
     "metadata": {},
     "output_type": "execute_result"
    }
   ],
   "source": [
    "# 시리즈에 새로운 원소 추가\n",
    "s['대구'] = 1875000\n",
    "s"
   ]
  },
  {
   "cell_type": "markdown",
   "id": "a83d2c0d-7568-417d-9dd8-240a4440fcc9",
   "metadata": {},
   "source": [
    "## series 함수"
   ]
  },
  {
   "cell_type": "markdown",
   "id": "e361a1e0-db68-405e-9b30-75f86bc6a7be",
   "metadata": {},
   "source": [
    "## series size, shape, unique, count, value_counts 함수\n",
    " - size(속성): 개수 반환\n",
    " - shape(속성): 튜플형태로 shape반환\n",
    " - unique:유일한 값만 ndarray로 반환\n",
    " - count: NaN을 제외한 개수를 반환\n",
    " - mean: NaN을 제외한 평균\n",
    " - value_counts: NaN을 제외하고 각 값들의 빈도를 반환"
   ]
  },
  {
   "cell_type": "code",
   "execution_count": 90,
   "id": "7c972a31-d2f0-4390-8cc9-5858187d1677",
   "metadata": {},
   "outputs": [
    {
     "data": {
      "text/plain": [
       "0     1.0\n",
       "1     1.0\n",
       "2     2.0\n",
       "3     1.0\n",
       "4     2.0\n",
       "5     2.0\n",
       "6     2.0\n",
       "7     1.0\n",
       "8     1.0\n",
       "9     1.0\n",
       "10    3.0\n",
       "11    3.0\n",
       "12    4.0\n",
       "13    5.0\n",
       "14    5.0\n",
       "15    7.0\n",
       "16    NaN\n",
       "dtype: float64"
      ]
     },
     "execution_count": 90,
     "metadata": {},
     "output_type": "execute_result"
    }
   ],
   "source": [
    "s1 = pd.Series([1, 1, 2, 1, 2, 2, 2, 1, 1, 1, 3, 3, 4, 5, 5, 7, np.NaN])\n",
    "s1"
   ]
  },
  {
   "cell_type": "code",
   "execution_count": 91,
   "id": "2738eef2-79b3-4a02-8c30-75157c6c1963",
   "metadata": {},
   "outputs": [
    {
     "data": {
      "text/plain": [
       "17"
      ]
     },
     "execution_count": 91,
     "metadata": {},
     "output_type": "execute_result"
    }
   ],
   "source": [
    "len(s1)"
   ]
  },
  {
   "cell_type": "code",
   "execution_count": 92,
   "id": "c7c44b9d-1e01-444c-befd-9afcaf5ec7b7",
   "metadata": {},
   "outputs": [
    {
     "data": {
      "text/plain": [
       "17"
      ]
     },
     "execution_count": 92,
     "metadata": {},
     "output_type": "execute_result"
    }
   ],
   "source": [
    "s1.size"
   ]
  },
  {
   "cell_type": "code",
   "execution_count": 93,
   "id": "4a0d7544-3fb7-4034-8ce1-d09e614d4b1e",
   "metadata": {},
   "outputs": [
    {
     "data": {
      "text/plain": [
       "(17,)"
      ]
     },
     "execution_count": 93,
     "metadata": {},
     "output_type": "execute_result"
    }
   ],
   "source": [
    "s1.shape"
   ]
  },
  {
   "cell_type": "code",
   "execution_count": 94,
   "id": "4cb10447-4511-4afb-9050-add7442fe319",
   "metadata": {},
   "outputs": [
    {
     "data": {
      "text/plain": [
       "array([ 1.,  2.,  3.,  4.,  5.,  7., nan])"
      ]
     },
     "execution_count": 94,
     "metadata": {},
     "output_type": "execute_result"
    }
   ],
   "source": [
    "s1.unique()"
   ]
  },
  {
   "cell_type": "code",
   "execution_count": 95,
   "id": "309dadc8-2e8f-48b3-b1f5-e47cf357850c",
   "metadata": {},
   "outputs": [
    {
     "data": {
      "text/plain": [
       "16"
      ]
     },
     "execution_count": 95,
     "metadata": {},
     "output_type": "execute_result"
    }
   ],
   "source": [
    "s1.count()"
   ]
  },
  {
   "cell_type": "code",
   "execution_count": 96,
   "id": "6cc4b256-fd04-48ac-b0c1-b96eb546dd92",
   "metadata": {},
   "outputs": [
    {
     "name": "stdout",
     "output_type": "stream",
     "text": [
      "nan\n",
      "0    2.0\n",
      "1    2.0\n",
      "2    2.0\n",
      "3    2.0\n",
      "4    NaN\n",
      "dtype: float64\n"
     ]
    },
    {
     "data": {
      "text/plain": [
       "2.0"
      ]
     },
     "execution_count": 96,
     "metadata": {},
     "output_type": "execute_result"
    }
   ],
   "source": [
    "a = np.array([2, 2, 2, 2,np.NaN]) #array타입\n",
    "print(a.mean()) #array에 대해 mean()적용하면 nan이 포함된 계산을 진행 - nanqksghks\n",
    "\n",
    "b = pd.Series(a) # 배열을 시리즈로 변경\n",
    "print(b)\n",
    "b.mean() # NaN 빼고 계산"
   ]
  },
  {
   "cell_type": "code",
   "execution_count": 97,
   "id": "4eb54213-85b7-4cf3-a9fb-3f0ec00d8efc",
   "metadata": {},
   "outputs": [
    {
     "data": {
      "text/plain": [
       "0     1.0\n",
       "1     1.0\n",
       "2     2.0\n",
       "3     1.0\n",
       "4     2.0\n",
       "5     2.0\n",
       "6     2.0\n",
       "7     1.0\n",
       "8     1.0\n",
       "9     1.0\n",
       "10    3.0\n",
       "11    3.0\n",
       "12    4.0\n",
       "13    5.0\n",
       "14    5.0\n",
       "15    7.0\n",
       "16    NaN\n",
       "dtype: float64"
      ]
     },
     "execution_count": 97,
     "metadata": {},
     "output_type": "execute_result"
    }
   ],
   "source": [
    "s1"
   ]
  },
  {
   "cell_type": "code",
   "execution_count": 98,
   "id": "2bb5e211-90f8-4d65-814d-b2acbaa0e289",
   "metadata": {},
   "outputs": [
    {
     "data": {
      "text/plain": [
       "2.5625"
      ]
     },
     "execution_count": 98,
     "metadata": {},
     "output_type": "execute_result"
    }
   ],
   "source": [
    "s1.mean()"
   ]
  },
  {
   "cell_type": "code",
   "execution_count": 99,
   "id": "7cb918d9-b8d0-470a-bb41-ef645aeda506",
   "metadata": {},
   "outputs": [
    {
     "data": {
      "text/plain": [
       "1.0    6\n",
       "2.0    4\n",
       "3.0    2\n",
       "5.0    2\n",
       "4.0    1\n",
       "7.0    1\n",
       "Name: count, dtype: int64"
      ]
     },
     "execution_count": 99,
     "metadata": {},
     "output_type": "execute_result"
    }
   ],
   "source": [
    "s1.value_counts()"
   ]
  },
  {
   "cell_type": "markdown",
   "id": "22a20368-fe64-40dc-b8d8-0c20b730e7f7",
   "metadata": {},
   "source": [
    "## 날짜 자동생성: date_range"
   ]
  },
  {
   "cell_type": "code",
   "execution_count": 100,
   "id": "c25c74c4-1c5e-43ba-bba1-fdcd1f9aad01",
   "metadata": {},
   "outputs": [
    {
     "data": {
      "text/plain": [
       "2018-10-07    200.0\n",
       "2018-10-08    195.0\n",
       "2018-10-09      NaN\n",
       "2018-10-10    205.0\n",
       "dtype: float64"
      ]
     },
     "execution_count": 100,
     "metadata": {},
     "output_type": "execute_result"
    }
   ],
   "source": [
    "# 날짜 인덱스를 이용하여 시리즈 만들기\n",
    "# 날짜 표시: '년-월-일' 형태의 문자열로 표시\n",
    "index_date=['2018-10-07', '2018-10-08','2018-10-09', '2018-10-10']\n",
    "s4 = pd.Series([200,195,np.nan, 205], index=index_date)\n",
    "s4"
   ]
  },
  {
   "cell_type": "code",
   "execution_count": 101,
   "id": "43e792cf-6cf8-405a-bf73-9917cf257f69",
   "metadata": {},
   "outputs": [
    {
     "data": {
      "text/plain": [
       "str"
      ]
     },
     "execution_count": 101,
     "metadata": {},
     "output_type": "execute_result"
    }
   ],
   "source": [
    "type(s4.index[0]) # str"
   ]
  },
  {
   "cell_type": "markdown",
   "id": "79785ef1-fdc0-478e-af66-2b0f45bd0b6f",
   "metadata": {},
   "source": [
    "- 판다스 패키지의 data_range 함수(날짜생성)\n",
    "  - pd.date_range(start=None, periods=None, freq='D')\n",
    "  - start: 시작날짜/end=끝날짜/periods=날짜 생성기간/fref=날짜 생성주기\n",
    "  - start는 필수 옵션/end 나 periods는 둘중 하나가 있어야 함/freq는 기본day로 설정"
   ]
  },
  {
   "cell_type": "code",
   "execution_count": 102,
   "id": "c42162b9-5ab9-405f-91f2-59e6e6ad582d",
   "metadata": {},
   "outputs": [
    {
     "data": {
      "text/plain": [
       "DatetimeIndex(['2018-10-01', '2018-10-02', '2018-10-03', '2018-10-04',\n",
       "               '2018-10-05', '2018-10-06', '2018-10-07', '2018-10-08',\n",
       "               '2018-10-09', '2018-10-10', '2018-10-11', '2018-10-12',\n",
       "               '2018-10-13', '2018-10-14', '2018-10-15', '2018-10-16',\n",
       "               '2018-10-17', '2018-10-18', '2018-10-19', '2018-10-20'],\n",
       "              dtype='datetime64[ns]', freq='D')"
      ]
     },
     "execution_count": 102,
     "metadata": {},
     "output_type": "execute_result"
    }
   ],
   "source": [
    "pd.date_range(start='2018-10-01', end='2018-10-20')\n",
    "# DatetimeIndex 반환\n",
    "# dtype='datetime64[ns]'"
   ]
  },
  {
   "cell_type": "code",
   "execution_count": 103,
   "id": "112dacaa-22cf-48c8-b697-ca8c191d391a",
   "metadata": {},
   "outputs": [
    {
     "data": {
      "text/plain": [
       "DatetimeIndex(['2018-10-01', '2018-10-02', '2018-10-03', '2018-10-04',\n",
       "               '2018-10-05', '2018-10-06', '2018-10-07', '2018-10-08',\n",
       "               '2018-10-09', '2018-10-10', '2018-10-11', '2018-10-12',\n",
       "               '2018-10-13', '2018-10-14', '2018-10-15', '2018-10-16',\n",
       "               '2018-10-17', '2018-10-18', '2018-10-19', '2018-10-20'],\n",
       "              dtype='datetime64[ns]', freq='D')"
      ]
     },
     "execution_count": 103,
     "metadata": {},
     "output_type": "execute_result"
    }
   ],
   "source": [
    "pd.date_range(start='2018-10-01', end='2018-10-20', freq='d')\n",
    "# freq='d' 기본 값\n"
   ]
  },
  {
   "cell_type": "code",
   "execution_count": 104,
   "id": "89d72e64-cdcc-4636-bb97-ee038cff7ce5",
   "metadata": {},
   "outputs": [
    {
     "data": {
      "text/plain": [
       "DatetimeIndex(['2018-10-01', '2018-10-04', '2018-10-07', '2018-10-10',\n",
       "               '2018-10-13', '2018-10-16', '2018-10-19'],\n",
       "              dtype='datetime64[ns]', freq='3D')"
      ]
     },
     "execution_count": 104,
     "metadata": {},
     "output_type": "execute_result"
    }
   ],
   "source": [
    "pd.date_range(start='2018-10-01', end='2018-10-20', freq='3D')\n",
    "# 3일씩 증가"
   ]
  },
  {
   "cell_type": "code",
   "execution_count": 105,
   "id": "15bdd34f-67fe-40fb-96d6-1f8c34a74f83",
   "metadata": {},
   "outputs": [
    {
     "data": {
      "text/plain": [
       "DatetimeIndex(['2018-10-07', '2018-10-14'], dtype='datetime64[ns]', freq='W-SUN')"
      ]
     },
     "execution_count": 105,
     "metadata": {},
     "output_type": "execute_result"
    }
   ],
   "source": [
    "pd.date_range(start='2018-10-01', end='2018-10-20', freq='w')\n",
    "# 2018-10-01을 기준으로 1주일씩 증가하는 날짜\n",
    "# 1주 시작일 일요일을 표시\n",
    "# 2018년 10월 1일 -월요일\n"
   ]
  },
  {
   "cell_type": "code",
   "execution_count": 106,
   "id": "3ba8aa05-b4d6-4f40-852e-db55661d9610",
   "metadata": {},
   "outputs": [
    {
     "data": {
      "text/plain": [
       "DatetimeIndex(['2018-10-07', '2018-10-14', '2018-10-21', '2018-10-28'], dtype='datetime64[ns]', freq='W-SUN')"
      ]
     },
     "execution_count": 106,
     "metadata": {},
     "output_type": "execute_result"
    }
   ],
   "source": [
    "# 2018년 10월 1일 이후 일요일 날짜 4개 생성\n",
    "pd.date_range(start='2018-10-01', periods=4, freq='w')\n"
   ]
  },
  {
   "cell_type": "code",
   "execution_count": 107,
   "id": "3c4d3dee-f1cc-455e-a1e7-92b6c4050517",
   "metadata": {},
   "outputs": [
    {
     "data": {
      "text/plain": [
       "DatetimeIndex(['2018-10-31', '2018-11-30', '2018-12-31', '2019-01-31'], dtype='datetime64[ns]', freq='M')"
      ]
     },
     "execution_count": 107,
     "metadata": {},
     "output_type": "execute_result"
    }
   ],
   "source": [
    "# 2018년 10월 1일 이후 월의 마지막 날짜 4개 생성\n",
    "pd.date_range(start='2018-10-01', periods=4, freq='m')"
   ]
  },
  {
   "cell_type": "code",
   "execution_count": 108,
   "id": "0e8446f1-753c-4905-82ef-46acaedb1d72",
   "metadata": {},
   "outputs": [
    {
     "data": {
      "text/plain": [
       "DatetimeIndex(['2018-10-31', '2018-11-30', '2018-12-31', '2019-01-31'], dtype='datetime64[ns]', freq='M')"
      ]
     },
     "execution_count": 108,
     "metadata": {},
     "output_type": "execute_result"
    }
   ],
   "source": [
    "pd.date_range(start='2018-10-01', periods=4, freq='M')"
   ]
  },
  {
   "cell_type": "code",
   "execution_count": 109,
   "id": "1563343b-23f4-4fa1-a1ab-332e389d3c05",
   "metadata": {},
   "outputs": [
    {
     "data": {
      "text/plain": [
       "DatetimeIndex(['2018-10-01', '2018-11-01', '2018-12-01', '2019-01-01'], dtype='datetime64[ns]', freq='MS')"
      ]
     },
     "execution_count": 109,
     "metadata": {},
     "output_type": "execute_result"
    }
   ],
   "source": [
    "pd.date_range(start='2018-10-01', periods=4, freq='MS')"
   ]
  },
  {
   "cell_type": "code",
   "execution_count": 110,
   "id": "9b82b5bc-5f7f-4a28-8dc2-07751b46e0b2",
   "metadata": {},
   "outputs": [
    {
     "data": {
      "text/plain": [
       "DatetimeIndex(['2018-10-31', '2018-12-31', '2019-02-28', '2019-04-30'], dtype='datetime64[ns]', freq='2BM')"
      ]
     },
     "execution_count": 110,
     "metadata": {},
     "output_type": "execute_result"
    }
   ],
   "source": [
    "pd.date_range(start='2018-10-01', periods=4, freq='2BM')\n",
    "# '2BM'업무일 기준 2개월 간격 월말 주기"
   ]
  },
  {
   "cell_type": "code",
   "execution_count": 111,
   "id": "30bcf9eb-d197-41da-b689-395a550eac81",
   "metadata": {},
   "outputs": [
    {
     "data": {
      "text/plain": [
       "DatetimeIndex(['2019-01-01', '2020-01-01', '2021-01-01', '2022-01-01'], dtype='datetime64[ns]', freq='AS-JAN')"
      ]
     },
     "execution_count": 111,
     "metadata": {},
     "output_type": "execute_result"
    }
   ],
   "source": [
    "pd.date_range(start='2018-10-01', periods=4, freq='AS')\n",
    "# 2018년 10월 1일 이후 연도 시작일 4개 생성"
   ]
  },
  {
   "cell_type": "code",
   "execution_count": 112,
   "id": "72bf0a58-9f38-4838-bf9b-bc149f98bd71",
   "metadata": {},
   "outputs": [
    {
     "data": {
      "text/plain": [
       "DatetimeIndex(['2019-01-01', '2020-01-01', '2021-01-01', '2022-01-01'], dtype='datetime64[ns]', freq='AS-JAN')"
      ]
     },
     "execution_count": 112,
     "metadata": {},
     "output_type": "execute_result"
    }
   ],
   "source": [
    "pd.date_range(start='2018-10-01', periods=4, freq='AS')"
   ]
  },
  {
   "cell_type": "markdown",
   "id": "e2da5ed2-f1da-4260-ae5d-ba57e7901161",
   "metadata": {},
   "source": [
    "## 판다스패키지의 date_range 함수 (시간생성)"
   ]
  },
  {
   "cell_type": "code",
   "execution_count": 114,
   "id": "b6a603ef-5b28-44c6-af54-322760c9f2fb",
   "metadata": {},
   "outputs": [
    {
     "data": {
      "text/plain": [
       "DatetimeIndex(['2018-10-01 00:00:00', '2018-10-01 01:00:00',\n",
       "               '2018-10-01 02:00:00', '2018-10-01 03:00:00',\n",
       "               '2018-10-01 04:00:00', '2018-10-01 05:00:00',\n",
       "               '2018-10-01 06:00:00', '2018-10-01 07:00:00',\n",
       "               '2018-10-01 08:00:00', '2018-10-01 09:00:00'],\n",
       "              dtype='datetime64[ns]', freq='H')"
      ]
     },
     "execution_count": 114,
     "metadata": {},
     "output_type": "execute_result"
    }
   ],
   "source": [
    "pd.date_range(start='2018-10-01', periods=10, freq='H')"
   ]
  },
  {
   "cell_type": "code",
   "execution_count": 115,
   "id": "259ccc83-9103-4f72-b7e2-5215c4ec5ce1",
   "metadata": {},
   "outputs": [
    {
     "data": {
      "text/plain": [
       "DatetimeIndex(['2018-10-01 09:00:00', '2018-10-01 10:00:00',\n",
       "               '2018-10-01 11:00:00', '2018-10-01 12:00:00',\n",
       "               '2018-10-01 13:00:00', '2018-10-01 14:00:00',\n",
       "               '2018-10-01 15:00:00', '2018-10-01 16:00:00',\n",
       "               '2018-10-02 09:00:00', '2018-10-02 10:00:00'],\n",
       "              dtype='datetime64[ns]', freq='BH')"
      ]
     },
     "execution_count": 115,
     "metadata": {},
     "output_type": "execute_result"
    }
   ],
   "source": [
    "pd.date_range(start='2018-10-01', periods=10, freq='BH')\n",
    "# 업무시간 기준 9 to 5로  설정"
   ]
  },
  {
   "cell_type": "code",
   "execution_count": 116,
   "id": "8f1455b4-69c8-44ad-a8bf-a0734a869b03",
   "metadata": {},
   "outputs": [
    {
     "data": {
      "text/plain": [
       "DatetimeIndex(['2018-10-01 00:00:00', '2018-10-01 00:30:00',\n",
       "               '2018-10-01 01:00:00', '2018-10-01 01:30:00',\n",
       "               '2018-10-01 02:00:00', '2018-10-01 02:30:00',\n",
       "               '2018-10-01 03:00:00', '2018-10-01 03:30:00',\n",
       "               '2018-10-01 04:00:00', '2018-10-01 04:30:00'],\n",
       "              dtype='datetime64[ns]', freq='30T')"
      ]
     },
     "execution_count": 116,
     "metadata": {},
     "output_type": "execute_result"
    }
   ],
   "source": [
    "pd.date_range(start='2018-10-01', periods=10, freq='30min')"
   ]
  },
  {
   "cell_type": "code",
   "execution_count": 117,
   "id": "e452bc0e-4220-4fcf-bea5-94c8e3487562",
   "metadata": {},
   "outputs": [
    {
     "data": {
      "text/plain": [
       "DatetimeIndex(['2018-10-01 00:00:00', '2018-10-01 00:00:10',\n",
       "               '2018-10-01 00:00:20', '2018-10-01 00:00:30',\n",
       "               '2018-10-01 00:00:40', '2018-10-01 00:00:50',\n",
       "               '2018-10-01 00:01:00', '2018-10-01 00:01:10',\n",
       "               '2018-10-01 00:01:20', '2018-10-01 00:01:30'],\n",
       "              dtype='datetime64[ns]', freq='10S')"
      ]
     },
     "execution_count": 117,
     "metadata": {},
     "output_type": "execute_result"
    }
   ],
   "source": [
    "pd.date_range(start='2018-10-01', periods=10, freq='10S')"
   ]
  },
  {
   "cell_type": "code",
   "execution_count": null,
   "id": "54df4b1b-1d13-48ac-8d24-80f2cc193dcc",
   "metadata": {},
   "outputs": [],
   "source": []
  }
 ],
 "metadata": {
  "kernelspec": {
   "display_name": "Python 3 (ipykernel)",
   "language": "python",
   "name": "python3"
  },
  "language_info": {
   "codemirror_mode": {
    "name": "ipython",
    "version": 3
   },
   "file_extension": ".py",
   "mimetype": "text/x-python",
   "name": "python",
   "nbconvert_exporter": "python",
   "pygments_lexer": "ipython3",
   "version": "3.11.5"
  }
 },
 "nbformat": 4,
 "nbformat_minor": 5
}
